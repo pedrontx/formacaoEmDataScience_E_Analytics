{
 "cells": [
  {
   "cell_type": "code",
   "execution_count": 1,
   "id": "23ab6dbc",
   "metadata": {},
   "outputs": [],
   "source": [
    "import pandas as pd"
   ]
  },
  {
   "cell_type": "code",
   "execution_count": 9,
   "id": "435f668f",
   "metadata": {},
   "outputs": [
    {
     "name": "stdout",
     "output_type": "stream",
     "text": [
      "nome do aluno: pedro \n",
      "Qual a nota do aluno: 4\n",
      "nome do aluno: kecia\n",
      "Qual a nota do aluno: 5\n",
      "nome do aluno: vinicius \n",
      "Qual a nota do aluno: 4\n",
      "nome do aluno: patricia\n",
      "Qual a nota do aluno: 5\n",
      "nome do aluno: jose\n",
      "Qual a nota do aluno: 7\n"
     ]
    }
   ],
   "source": [
    "dicionario = {}\n",
    "for n in range(0, 5):\n",
    "        chave = input(f'nome do aluno: ')\n",
    "        valor = float(input(f'Qual a nota do aluno: '))\n",
    "        dicionario[chave] = valor\n",
    "        "
   ]
  },
  {
   "cell_type": "code",
   "execution_count": 10,
   "id": "97aa9976",
   "metadata": {},
   "outputs": [
    {
     "data": {
      "text/plain": [
       "{'pedro ': 4.0, 'kecia': 5.0, 'vinicius ': 4.0, 'patricia': 5.0, 'jose': 7.0}"
      ]
     },
     "execution_count": 10,
     "metadata": {},
     "output_type": "execute_result"
    }
   ],
   "source": [
    "dicionario"
   ]
  },
  {
   "cell_type": "code",
   "execution_count": null,
   "id": "5483e8f2",
   "metadata": {},
   "outputs": [],
   "source": [
    "df = pd.read_csv(r'')"
   ]
  },
  {
   "cell_type": "code",
   "execution_count": null,
   "id": "597bb1bb",
   "metadata": {},
   "outputs": [],
   "source": []
  },
  {
   "cell_type": "code",
   "execution_count": null,
   "id": "c4e469e3",
   "metadata": {},
   "outputs": [],
   "source": []
  }
 ],
 "metadata": {
  "kernelspec": {
   "display_name": "Python 3 (ipykernel)",
   "language": "python",
   "name": "python3"
  },
  "language_info": {
   "codemirror_mode": {
    "name": "ipython",
    "version": 3
   },
   "file_extension": ".py",
   "mimetype": "text/x-python",
   "name": "python",
   "nbconvert_exporter": "python",
   "pygments_lexer": "ipython3",
   "version": "3.11.5"
  }
 },
 "nbformat": 4,
 "nbformat_minor": 5
}
