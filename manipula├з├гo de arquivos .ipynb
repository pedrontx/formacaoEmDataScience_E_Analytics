{
 "cells": [
  {
   "cell_type": "code",
   "execution_count": 6,
   "id": "89974c5f",
   "metadata": {},
   "outputs": [],
   "source": [
    "notas = {'Pedro Henrique':8.0, 'Kecia Lidia': 7.25, 'Patricia':4.5 }\n",
    "\n",
    "with open('teste escrevendo em arquivo', 'w') as alunos:\n",
    "    for nome, nota in notas.items():\n",
    "        alunos.write(f'{nome}, {nota}\\n')\n",
    "    "
   ]
  },
  {
   "cell_type": "code",
   "execution_count": null,
   "id": "40a79dbc",
   "metadata": {},
   "outputs": [],
   "source": []
  },
  {
   "cell_type": "code",
   "execution_count": null,
   "id": "24d9d29f",
   "metadata": {},
   "outputs": [],
   "source": []
  }
 ],
 "metadata": {
  "kernelspec": {
   "display_name": "Python 3 (ipykernel)",
   "language": "python",
   "name": "python3"
  },
  "language_info": {
   "codemirror_mode": {
    "name": "ipython",
    "version": 3
   },
   "file_extension": ".py",
   "mimetype": "text/x-python",
   "name": "python",
   "nbconvert_exporter": "python",
   "pygments_lexer": "ipython3",
   "version": "3.11.5"
  }
 },
 "nbformat": 4,
 "nbformat_minor": 5
}
